{
 "cells": [
  {
   "cell_type": "code",
   "execution_count": null,
   "metadata": {
    "vscode": {
     "languageId": "html"
    }
   },
   "outputs": [],
   "source": [
    "<p>Protected areas, also known as conservation areas, are designated regions that are managed and protected for their ecological, natural, or cultural values. These areas play a vital role in conserving biodiversity, preserving cultural heritage, and providing essential ecosystem services. As human activities continue to put pressure on our planet's natural resources, it becomes increasingly important to protect these areas to ensure their long-term survival.</p>\n",
    "    \n",
    "    <style>\n",
    "\t\t#banner {\n",
    "\t\t\tbackground-color: #5cb85c;\n",
    "\t\t\tcolor: #fff;\n",
    "\t\t\tpadding: 20px;\n",
    "\t\t\ttext-align: center;\n",
    "\t\t}\n",
    "\t</style>\n",
    "    \n",
    "    <div id=\"banner\">\n",
    "\t\t<h1>Join us in improving the environment!</h1>\n",
    "\t\t<p>Reduce your carbon footprint, recycle, and support sustainable practices.</p>\n",
    "\t\t<a href=\"https://www.epa.gov/greeningepa\">Learn more</a>\n",
    "\t</div>\n",
    "    \n",
    "    \n",
    "\t<ul>\n",
    "\t\t<li><a href=\"https://www.iucn.org/theme/protected-areas/about\" target=\"_blank\">IUCN - Protected Areas</a></li>\n",
    "\t\t<li><a href=\"https://www.worldwildlife.org/initiatives/protected-areas\" target=\"_blank\">World Wildlife Fund - Protected Areas</a></li>\n",
    "\t\t<li><a href=\"https://www.nationalgeographic.com/environment/conservation/protected-areas/\" target=\"_blank\">National Geographic - Protected Areas</a></li>\n",
    "\t\t<li><a href=\"https://www.conservation.org/priorities/protected-areas\" target=\"_blank\">Conservation International - Protected Areas</a></li>\n",
    "\t\t<li><a href=\"https://www.unep-wcmc.org/protected-areas\" target=\"_blank\">UNEP - World Database on Protected Areas</a></li>\n",
    "\t\t<li><a href=\"https://www.parks.ca.gov/\" target=\"_blank\">California State Parks - Protected Areas</a></li>\n",
    "\t</ul>\n",
    "\t<footer>&copy; 2023 Emmanuel.Abule - Student Number: 301269945 - Images and information acquired from the respective websites.</footer>\n",
    "</body>\n",
    "</html>\n",
    "<!-- This HTML document was created by Emmanuel.Abule (Student Number: 301269945) -->\n",
    "\n",
    "\n",
    "\n",
    "\t"
   ]
  }
 ],
 "metadata": {
  "language_info": {
   "name": "python"
  },
  "orig_nbformat": 4
 },
 "nbformat": 4,
 "nbformat_minor": 2
}
